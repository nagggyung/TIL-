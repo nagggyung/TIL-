{
 "cells": [
  {
   "cell_type": "markdown",
   "id": "c4f1e324",
   "metadata": {},
   "source": [
    "<h1>Recognizer - opencv</h1>"
   ]
  },
  {
   "cell_type": "code",
   "execution_count": 5,
   "id": "6a2ac1da",
   "metadata": {},
   "outputs": [
    {
     "name": "stdout",
     "output_type": "stream",
     "text": [
      "C:\\project\\urop-project\\face_recognition\\part3\n"
     ]
    }
   ],
   "source": [
    "cd C:\\project\\urop-project\\face_recognition\\part3"
   ]
  },
  {
   "cell_type": "markdown",
   "id": "123a9cd0",
   "metadata": {},
   "source": [
    "<h2>1. Collect images</h2>"
   ]
  },
  {
   "cell_type": "code",
   "execution_count": null,
   "id": "795b47da",
   "metadata": {},
   "outputs": [],
   "source": [
    "import cv2\n",
    "import numpy as np\n",
    "from os import makedirs\n",
    "from os.path import isdir\n",
    "\n",
    "# 얼굴 저장 함수\n",
    "face_dirs = 'faces/'\n",
    "\n",
    "face_classifier = cv2.CascadeClassifier('haar_face.xml')\n",
    "\n",
    "# 얼굴 검출 함수\n",
    "def face_extractor(img):\n",
    "    gray = cv2.cvtColor(img,cv2.COLOR_BGR2GRAY)\n",
    "    faces = face_classifier.detectMultiScale(gray,1.3,5)\n",
    "    # 얼굴이 없으면 패스!\n",
    "    if faces is():\n",
    "        return None\n",
    "    # 얼굴이 있으면 얼굴 부위만 이미지로 만들고\n",
    "    for(x,y,w,h) in faces:\n",
    "        cropped_face = img[y:y+h, x:x+w]\n",
    "    # 리턴!\n",
    "    return cropped_face\n",
    "\n",
    "# 얼굴만 저장하는 함수\n",
    "def take_pictures(name):\n",
    "    # 해당 이름의 폴더가 없다면 생성\n",
    "    if not isdir(face_dirs+name):\n",
    "        makedirs(face_dirs+name)\n",
    "\n",
    "    # 카메라 ON    \n",
    "    cap = cv2.VideoCapture(0)\n",
    "    count = 0\n",
    "\n",
    "    while True:\n",
    "        # 카메라로 부터 사진 한장 읽어 오기\n",
    "        ret, frame = cap.read()\n",
    "        # 사진에서 얼굴 검출 , 얼굴이 검출되었다면 \n",
    "        if face_extractor(frame) is not None:\n",
    "            \n",
    "            count+=1\n",
    "            # 200 x 200 사이즈로 줄이거나 늘린다음\n",
    "            face = cv2.resize(face_extractor(frame),(200,200))\n",
    "            # 흑백으로 바꿈\n",
    "            face = cv2.cvtColor(face, cv2.COLOR_BGR2GRAY)\n",
    "\n",
    "            # 200x200 흑백 사진을 faces/얼굴 이름/userxx.jpg 로 저장\n",
    "            file_name_path = face_dirs + name + '/user'+str(count)+'.jpg'\n",
    "            cv2.imwrite(file_name_path,face)\n",
    "\n",
    "            cv2.putText(face,str(count),(50,50),cv2.FONT_HERSHEY_COMPLEX,1,(0,255,0),2)\n",
    "            cv2.imshow('Face Cropper',face)\n",
    "        else:\n",
    "            print(\"Face not Found\")\n",
    "            pass\n",
    "        \n",
    "        # 얼굴 사진 100장을 다 얻었거나 enter키 누르면 종료\n",
    "        if cv2.waitKey(1)==13 or count==100:\n",
    "            break\n",
    "\n",
    "    cap.release()\n",
    "    cv2.destroyAllWindows()\n",
    "    print('Colleting Samples Complete!!!')\n",
    "\n",
    "\n",
    "if __name__ == \"__main__\":\n",
    "    # 사진 저장할 이름을 넣어서 함수 호출\n",
    "    take_pictures('dong')"
   ]
  },
  {
   "cell_type": "markdown",
   "id": "0b3b5b7e",
   "metadata": {},
   "source": [
    "<h2>2. Training </h2>"
   ]
  },
  {
   "cell_type": "code",
   "execution_count": 6,
   "id": "512c1269",
   "metadata": {},
   "outputs": [
    {
     "name": "stderr",
     "output_type": "stream",
     "text": [
      "<>:66: SyntaxWarning: \"is\" with a literal. Did you mean \"==\"?\n",
      "<>:66: SyntaxWarning: \"is\" with a literal. Did you mean \"==\"?\n",
      "<ipython-input-6-ca8bff40a84f>:66: SyntaxWarning: \"is\" with a literal. Did you mean \"==\"?\n",
      "  if faces is():\n"
     ]
    }
   ],
   "source": [
    "import cv2\n",
    "import numpy as np\n",
    "from os import listdir\n",
    "from os.path import isdir, isfile, join\n",
    "\n",
    "# 얼굴 인식용 haar/cascade 로딩\n",
    "face_classifier = cv2.CascadeClassifier('haar_face.xml')    \n",
    "\n",
    "# 사용자 얼굴 학습\n",
    "def train(name):\n",
    "    data_path = 'faces/' + name + '/'\n",
    "    #파일만 리스트로 만듬\n",
    "    face_pics = [f for f in listdir(data_path) if isfile(join(data_path,f))]\n",
    "    \n",
    "    Training_Data, Labels = [], []\n",
    "    \n",
    "    for i, files in enumerate(face_pics):\n",
    "        image_path = data_path + face_pics[i]\n",
    "        images = cv2.imread(image_path, cv2.IMREAD_GRAYSCALE)\n",
    "        # 이미지가 아니면 패스\n",
    "        if images is None:\n",
    "            continue    \n",
    "        Training_Data.append(np.asarray(images, dtype=np.uint8))\n",
    "        Labels.append(i)\n",
    "    if len(Labels) == 0:\n",
    "        print(\"There is no data to train.\")\n",
    "        return None\n",
    "    Labels = np.asarray(Labels, dtype=np.int32)\n",
    "    # 모델 생성\n",
    "    model = cv2.face.LBPHFaceRecognizer_create()\n",
    "    # 학습\n",
    "    model.train(np.asarray(Training_Data), np.asarray(Labels))\n",
    "    print(name + \" : Model Training Complete!!!!!\")\n",
    "\n",
    "    #학습 모델 리턴\n",
    "    return model\n",
    "\n",
    "# 여러 사용자 학습\n",
    "def trains():\n",
    "    #faces 폴더의 하위 폴더를 학습\n",
    "    data_path = 'faces/'\n",
    "    # 폴더만 색출\n",
    "    model_dirs = [f for f in listdir(data_path) if isdir(join(data_path,f))]\n",
    "    \n",
    "    #학습 모델 저장할 딕셔너리\n",
    "    models = {}\n",
    "    # 각 폴더에 있는 얼굴들 학습\n",
    "    for model in model_dirs:\n",
    "        print('model :' + model)\n",
    "        # 학습 시작\n",
    "        result = train(model)\n",
    "        # 학습이 안되었다면 패스!\n",
    "        if result is None:\n",
    "            continue\n",
    "        # 학습되었으면 저장\n",
    "        print('model2 :' + model)\n",
    "        models[model] = result\n",
    "\n",
    "    # 학습된 모델 딕셔너리 리턴\n",
    "    return models    \n",
    "\n",
    "#얼굴 검출\n",
    "def face_detector(img, size = 0.5):\n",
    "        gray = cv2.cvtColor(img, cv2.COLOR_BGR2GRAY)\n",
    "        faces = face_classifier.detectMultiScale(gray,1.3,5)\n",
    "        if faces is():\n",
    "            return img,[]\n",
    "        for(x,y,w,h) in faces:\n",
    "            cv2.rectangle(img, (x,y),(x+w,y+h),(0,255,255),2)\n",
    "            roi = img[y:y+h, x:x+w]\n",
    "            roi = cv2.resize(roi, (200,200))\n",
    "        return img,roi   #검출된 좌표에 사각 박스 그리고(img), 검출된 부위를 잘라(roi) 전달\n"
   ]
  },
  {
   "cell_type": "markdown",
   "id": "72a8e547",
   "metadata": {},
   "source": [
    "<h2>3. Recognition</h2>"
   ]
  },
  {
   "cell_type": "code",
   "execution_count": 8,
   "id": "a599bcb5",
   "metadata": {},
   "outputs": [
    {
     "name": "stdout",
     "output_type": "stream",
     "text": [
      "model :Nagyung\n",
      "Nagyung : Model Training Complete!!!!!\n",
      "model2 :Nagyung\n"
     ]
    }
   ],
   "source": [
    "# 인식 시작\n",
    "def run(models):    \n",
    "    #카메라 열기 \n",
    "    cap = cv2.VideoCapture(0)\n",
    "    \n",
    "    while True:\n",
    "        #카메라로 부터 사진 한장 읽기 \n",
    "        ret, frame = cap.read()\n",
    "        # 얼굴 검출 시도 \n",
    "        image, face = face_detector(frame)\n",
    "        try:            \n",
    "            min_score = 999       #가장 낮은 점수로 예측된 사람의 점수\n",
    "            min_score_name = \"\"   #가장 높은 점수로 예측된 사람의 이름\n",
    "            \n",
    "            #검출된 사진을 흑백으로 변환 \n",
    "            face = cv2.cvtColor(face, cv2.COLOR_BGR2GRAY)\n",
    "\n",
    "            #위에서 학습한 모델로 예측시도\n",
    "            for key, model in models.items():\n",
    "                result = model.predict(face)                \n",
    "                if min_score > result[1]:\n",
    "                    min_score = result[1]\n",
    "                    min_score_name = key\n",
    "                    \n",
    "            #min_score 신뢰도이고 0에 가까울수록 자신과 같다는 뜻이다.         \n",
    "            if min_score < 500:\n",
    "                #????? 어쨋든 0~100표시하려고 한듯 \n",
    "                confidence = int(100*(1-(min_score)/300))\n",
    "                # 유사도 화면에 표시 \n",
    "                display_string = str(confidence)+'% Confidence it is ' + min_score_name\n",
    "            cv2.putText(image,display_string,(100,120), cv2.FONT_HERSHEY_COMPLEX,1,(250,120,255),2)\n",
    "            #75 보다 크면 동일 인물로 간주해 UnLocked! \n",
    "            if confidence > 83:\n",
    "                cv2.putText(image, \"Unlocked : \" + min_score_name, (250, 450), cv2.FONT_HERSHEY_COMPLEX, 1, (0, 255, 0), 2)\n",
    "                cv2.imshow('Face Cropper', image)\n",
    "            else:\n",
    "            #75 이하면 타인.. Locked!!! \n",
    "                cv2.putText(image, \"Locked\", (250, 450), cv2.FONT_HERSHEY_COMPLEX, 1, (0, 0, 255), 2)\n",
    "                cv2.imshow('Face Cropper', image)\n",
    "        except:\n",
    "            #얼굴 검출 안됨 \n",
    "            cv2.putText(image, \"Face Not Found\", (250, 450), cv2.FONT_HERSHEY_COMPLEX, 1, (255, 0, 0), 2)\n",
    "            cv2.imshow('Face Cropper', image)\n",
    "            pass\n",
    "        if cv2.waitKey(1) & 0xFF == ord('q'):\n",
    "            break\n",
    "    cap.release()\n",
    "    cv2.destroyAllWindows()\n",
    "\n",
    "if __name__ == \"__main__\":\n",
    "    # 학습 시작\n",
    "    models = trains()\n",
    "    # 고!\n",
    "    run(models)\n",
    "    "
   ]
  },
  {
   "cell_type": "code",
   "execution_count": null,
   "id": "6c248462",
   "metadata": {},
   "outputs": [],
   "source": []
  }
 ],
 "metadata": {
  "kernelspec": {
   "display_name": "test",
   "language": "python",
   "name": "test"
  },
  "language_info": {
   "codemirror_mode": {
    "name": "ipython",
    "version": 3
   },
   "file_extension": ".py",
   "mimetype": "text/x-python",
   "name": "python",
   "nbconvert_exporter": "python",
   "pygments_lexer": "ipython3",
   "version": "3.9.5"
  }
 },
 "nbformat": 4,
 "nbformat_minor": 5
}
